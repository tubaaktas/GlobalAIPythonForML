{
  "nbformat": 4,
  "nbformat_minor": 0,
  "metadata": {
    "colab": {
      "name": "GlobalAI7090.ipynb",
      "provenance": [],
      "authorship_tag": "ABX9TyPLqHW0UM0TMOUq8dHSe9Ov",
      "include_colab_link": true
    },
    "kernelspec": {
      "name": "python3",
      "display_name": "Python 3"
    },
    "language_info": {
      "name": "python"
    }
  },
  "cells": [
    {
      "cell_type": "markdown",
      "metadata": {
        "id": "view-in-github",
        "colab_type": "text"
      },
      "source": [
        "<a href=\"https://colab.research.google.com/github/tubaaktas/GlobalAIPythonForML/blob/main/GlobalAI7090.ipynb\" target=\"_parent\"><img src=\"https://colab.research.google.com/assets/colab-badge.svg\" alt=\"Open In Colab\"/></a>"
      ]
    },
    {
      "cell_type": "markdown",
      "source": [
        "# **PART 1**"
      ],
      "metadata": {
        "id": "KgWCo0qtvJRZ"
      }
    },
    {
      "cell_type": "code",
      "execution_count": 70,
      "metadata": {
        "id": "5rlsqMndvC8d"
      },
      "outputs": [],
      "source": [
        "class HealthInsurance:\n",
        "\n",
        "  def __init__(self, company_name, foundation_year, founder_name, company_slogan, num_of_employees, num_of_clients):\n",
        "    self.company_name = company_name\n",
        "    self.foundation_year = foundation_year\n",
        "    self.founder_name = founder_name\n",
        "    self.company_slogan = company_slogan\n",
        "    self.num_of_employees = num_of_employees\n",
        "    self.num_of_clients = num_of_clients\n",
        "\n",
        "  def print_report(self):\n",
        "    print(f\"\"\"The company {self.company_name} was founded in {self.foundation_year},\n",
        "    The founder of the company is {self.founder_name},\n",
        "    Company slogan : {self.company_slogan},\n",
        "    Number of employees: {self.num_of_employees},\n",
        "    Number of clients : {self.num_of_clients}\"\"\")\n",
        "\n",
        "  def sup_health_insurance(self, age, chronic_disease, income):\n",
        "   if age >= 60 and chronic_disease == True and income < 6000:\n",
        "      print(\"We are sorry! You are not eligible for supplemental health insurance.\")\n",
        "   elif age < 60 and income >= 6000 or chronic_disease == False:\n",
        "      print(\"Congratulations! You can get suplemental health insurance.\")\n",
        "  \n",
        "  def update_num_clients(self, new_number):\n",
        "    self.num_of_clients = new_number\n",
        "    print(f\"Number of clients has been {self.num_of_clients} !\")\n"
      ]
    },
    {
      "cell_type": "code",
      "source": [
        "HI_company1 = HealthInsurance('AktasHealth', 2012, 'Tugba Aktas', 'We are for you.', 3500, 13230)"
      ],
      "metadata": {
        "id": "Nzh5OF3n7kJs"
      },
      "execution_count": 71,
      "outputs": []
    },
    {
      "cell_type": "code",
      "source": [
        "HI_company1.sup_health_insurance(36, True, 6000)"
      ],
      "metadata": {
        "colab": {
          "base_uri": "https://localhost:8080/"
        },
        "id": "9dhwA72m78hb",
        "outputId": "f34ccd34-7bdf-4e6b-9899-5f134aebefd1"
      },
      "execution_count": 72,
      "outputs": [
        {
          "output_type": "stream",
          "name": "stdout",
          "text": [
            "Congratulations! You can get suplemental health insurance.\n"
          ]
        }
      ]
    },
    {
      "cell_type": "code",
      "source": [
        "HI_company1.update_num_clients(746281)"
      ],
      "metadata": {
        "colab": {
          "base_uri": "https://localhost:8080/"
        },
        "id": "ZVxuj9fz8Iz9",
        "outputId": "e7dc24e2-d754-4608-c27c-eacd8d9af941"
      },
      "execution_count": 73,
      "outputs": [
        {
          "output_type": "stream",
          "name": "stdout",
          "text": [
            "Number of clients has been 746281 !\n"
          ]
        }
      ]
    },
    {
      "cell_type": "code",
      "source": [
        "HI_company1.print_report()"
      ],
      "metadata": {
        "colab": {
          "base_uri": "https://localhost:8080/"
        },
        "id": "7islCszP9UYK",
        "outputId": "dd2e0e7b-9140-4d41-ad41-45dcb39c996c"
      },
      "execution_count": 74,
      "outputs": [
        {
          "output_type": "stream",
          "name": "stdout",
          "text": [
            "The company AktasHealth was founded in 2012,\n",
            "    The founder of the company is Tugba Aktas,\n",
            "    Company slogan : We are for you.,\n",
            "    Number of employees: 3500,\n",
            "    Number of clients : 746281\n"
          ]
        }
      ]
    },
    {
      "cell_type": "markdown",
      "source": [
        "# Part 2"
      ],
      "metadata": {
        "id": "gvQNQNZL9p72"
      }
    },
    {
      "cell_type": "code",
      "source": [
        "class Logistic:\n",
        "  def __init__(self, company_name, foundation_year, founder_name, company_slogan, inventory_space):\n",
        "    self.company_name = company_name\n",
        "    self.foundation_year = foundation_year\n",
        "    self.founder_name = founder_name\n",
        "    self.company_slogan = company_slogan\n",
        "    self.inventory_space = inventory_space\n",
        "\n",
        "  def print_report(self):\n",
        "    print(f\"\"\"The company {self.company_name} was founded in {self.foundation_year},\n",
        "    The founder of the company is {self.founder_name},\n",
        "    Company slogan : {self.company_slogan},\n",
        "    Inventory space of the company: {self.inventory_space}\"\"\")\n",
        "\n",
        "  def update_inventory_space(self, new_inventory_space):\n",
        "    self.inventory_space = new_inventory_space\n",
        "    print(f\"Inventory space has been changed to {self.inventory_space} !\")\n"
      ],
      "metadata": {
        "id": "dF1Ri-2V9zqI"
      },
      "execution_count": 75,
      "outputs": []
    },
    {
      "cell_type": "code",
      "source": [
        "logistic_company1 = Logistic(\"AktasCom\", 2000, \"Tugba Aktas\", \"There is no place we cannot reach.\", 2500)"
      ],
      "metadata": {
        "id": "I6UutWV1---g"
      },
      "execution_count": 76,
      "outputs": []
    },
    {
      "cell_type": "code",
      "source": [
        "logistic_company1.update_inventory_space(4500)\n",
        "logistic_company1.print_report()\n"
      ],
      "metadata": {
        "colab": {
          "base_uri": "https://localhost:8080/"
        },
        "id": "IftDiulP_dw6",
        "outputId": "3170435c-78fb-486c-afc4-7d3eeb0fc4d1"
      },
      "execution_count": 77,
      "outputs": [
        {
          "output_type": "stream",
          "name": "stdout",
          "text": [
            "Inventory space has been changed to 4500 !\n",
            "The company AktasCom was founded in 2000,\n",
            "    The founder of the company is Tugba Aktas,\n",
            "    Company slogan : There is no place we cannot reach.,\n",
            "    Inventory space of the company: 4500\n"
          ]
        }
      ]
    },
    {
      "cell_type": "markdown",
      "source": [
        "# **Trading**"
      ],
      "metadata": {
        "id": "iBPsT4Rv_ynA"
      }
    },
    {
      "cell_type": "code",
      "source": [
        "class Trading:\n",
        "  def __init__(self, company_name, foundation_year, founder_name, company_slogan, sales, expenses, revenue):\n",
        "    self.company_name = company_name\n",
        "    self.foundation_year = foundation_year\n",
        "    self.founder_name = founder_name\n",
        "    self.company_slogan = company_slogan\n",
        "    self.sales = sales\n",
        "    self.expenses = expenses\n",
        "    self.revenue = revenue\n",
        "\n",
        "  def print_report(self):\n",
        "    print(f\"\"\"The company {self.company_name} was founded in {self.foundation_year},\n",
        "    The founder of the company is {self.founder_name},\n",
        "    Company slogan : {self.company_slogan},\n",
        "    Total sales : {self.sales},\n",
        "    Total expenses : {self.expenses},\n",
        "    Total revenue : {self.revenue}\"\"\")\n",
        "\n",
        "  def update_sales_and_expenses(self, new_sales,new_expenses):\n",
        "    self.sales += new_sales\n",
        "    self.expenses += new_expenses\n",
        "    print(\"Sales and expenses are updated !\")\n",
        "\n",
        "  def calculate_revenue(self):\n",
        "    self.revenue = self.revenue - self.expenses\n",
        "    print(f\"The revenue of the company in : {self.revenue}\")"
      ],
      "metadata": {
        "id": "lZ_Ch60M_1M0"
      },
      "execution_count": 78,
      "outputs": []
    },
    {
      "cell_type": "code",
      "source": [
        "Trading_company1 = Trading(\"AktasTra\", 2000, \"Tugba AKTAS\", \"We revolutionize trading.\", 3850, 1720, 1838)"
      ],
      "metadata": {
        "id": "ruRGjQGxBXoh"
      },
      "execution_count": 79,
      "outputs": []
    },
    {
      "cell_type": "code",
      "source": [
        "Trading_company1.update_sales_and_expenses(100,50)"
      ],
      "metadata": {
        "colab": {
          "base_uri": "https://localhost:8080/"
        },
        "id": "9v2SF-hBBrwM",
        "outputId": "745576be-7908-40d8-8ebf-f2150ea0d5ef"
      },
      "execution_count": 80,
      "outputs": [
        {
          "output_type": "stream",
          "name": "stdout",
          "text": [
            "Sales and expenses are updated !\n"
          ]
        }
      ]
    },
    {
      "cell_type": "code",
      "source": [
        "Trading_company1.calculate_revenue()"
      ],
      "metadata": {
        "colab": {
          "base_uri": "https://localhost:8080/"
        },
        "id": "8enThNTRBzfJ",
        "outputId": "c8191bec-1c11-4ada-debe-fbf67a7180d0"
      },
      "execution_count": 81,
      "outputs": [
        {
          "output_type": "stream",
          "name": "stdout",
          "text": [
            "The revenue of the company in : 68\n"
          ]
        }
      ]
    },
    {
      "cell_type": "code",
      "source": [
        "Trading_company1.print_report()"
      ],
      "metadata": {
        "colab": {
          "base_uri": "https://localhost:8080/"
        },
        "id": "k0m1i-V3B4xK",
        "outputId": "e1aa37f3-95b9-49d9-dfe2-f157a3ada0ca"
      },
      "execution_count": 82,
      "outputs": [
        {
          "output_type": "stream",
          "name": "stdout",
          "text": [
            "The company AktasTra was founded in 2000,\n",
            "    The founder of the company is Tugba AKTAS,\n",
            "    Company slogan : We revolutionize trading.,\n",
            "    Total sales : 3950,\n",
            "    Total expenses : 1770,\n",
            "    Total revenue : 68\n"
          ]
        }
      ]
    }
  ]
}